{
  "nbformat": 4,
  "nbformat_minor": 0,
  "metadata": {
    "colab": {
      "provenance": []
    },
    "kernelspec": {
      "name": "python3",
      "display_name": "Python 3"
    },
    "language_info": {
      "name": "python"
    }
  },
  "cells": [
    {
      "cell_type": "markdown",
      "source": [
        "# **Laboratory Exercise 1: Linear Regression Implementation**\n",
        "\n",
        "***Objective:*** To apply the concepts of linear regression learned in lectures by implementing a simple linear regression model from scratch in Python.\n",
        "\n",
        "***Task Overview:*** You are provided with a dataset containing information about house prices in a particular city. The dataset includes features such as the size of the house (in square feet), the number of bedrooms, and the age of the house. Your task is to predict the price of a house based on these features using a linear regression model."
      ],
      "metadata": {
        "id": "aL48LwQKMg_P"
      }
    },
    {
      "cell_type": "markdown",
      "source": [
        "# **1. Data Preprocessing:**\n",
        "\n",
        "- Load the dataset into a Pandas DataFrame.\n",
        "- Check for any missing values and handle them appropriately.\n",
        "- Normalize the features to ensure they are on a similar scale."
      ],
      "metadata": {
        "id": "RiXbHB0ZNDta"
      }
    },
    {
      "cell_type": "code",
      "source": [
        "import pandas as pd\n",
        "import numpy as np\n",
        "import matplotlib.pyplot as plt\n",
        "from sklearn.preprocessing import StandardScaler\n",
        "from sklearn.model_selection import train_test_split"
      ],
      "metadata": {
        "id": "KuscNJex0t0z"
      },
      "execution_count": null,
      "outputs": []
    },
    {
      "cell_type": "code",
      "source": [
        "df = pd.read_csv('/content/datasets_house_prices.csv')\n",
        "print(df.head())"
      ],
      "metadata": {
        "id": "-F8JkEBbNpS3",
        "colab": {
          "base_uri": "https://localhost:8080/"
        },
        "outputId": "6fd4cc74-dbd8-41c9-9e83-bdb8611666f7"
      },
      "execution_count": null,
      "outputs": [
        {
          "output_type": "stream",
          "name": "stdout",
          "text": [
            "   Size (sqft)  Bedrooms  Age  Proximity to Downtown (miles)         Price\n",
            "0         3974         1   97                       2.032719  1.162771e+06\n",
            "1         1660         5   88                      23.695207  4.900021e+05\n",
            "2         2094         4   49                       6.440232  6.400737e+05\n",
            "3         1930         2   28                       8.129315  5.637881e+05\n",
            "4         1895         1   56                       5.358837  5.651289e+05\n"
          ]
        }
      ]
    },
    {
      "cell_type": "code",
      "source": [
        "df = df.dropna()"
      ],
      "metadata": {
        "id": "MS56V2ip1aE4"
      },
      "execution_count": null,
      "outputs": []
    },
    {
      "cell_type": "code",
      "source": [
        "print(df.isnull().sum())"
      ],
      "metadata": {
        "colab": {
          "base_uri": "https://localhost:8080/"
        },
        "id": "tEW1xkZC1WKA",
        "outputId": "be1de9d4-3d29-46f0-ad7a-c6fa744c5228"
      },
      "execution_count": null,
      "outputs": [
        {
          "output_type": "stream",
          "name": "stdout",
          "text": [
            "Size (sqft)                      0\n",
            "Bedrooms                         0\n",
            "Age                              0\n",
            "Proximity to Downtown (miles)    0\n",
            "Price                            0\n",
            "dtype: int64\n"
          ]
        }
      ]
    },
    {
      "cell_type": "markdown",
      "source": [
        "# **2. Model Implementation:**\n",
        "\n",
        "- Implement the linear regression model using Python (do not use any pre-built libraries like Scikitlearn for this part).\n",
        "- Derive the model parameters (slope and intercept) using the least squares method.\n",
        "- Write a function that predicts the house price based on input features."
      ],
      "metadata": {
        "id": "KpbzZPfTNXVo"
      }
    },
    {
      "cell_type": "code",
      "source": [
        "scaler = StandardScaler()\n",
        "X = scaler.fit_transform(df[['Size (sqft)', 'Bedrooms', 'Age']])\n",
        "y = df['Price']"
      ],
      "metadata": {
        "id": "AyP7YERZNptH"
      },
      "execution_count": null,
      "outputs": []
    },
    {
      "cell_type": "code",
      "source": [
        "def linear_regression(X, y):\n",
        "    X = np.c_[np.ones(len(X)), X]\n",
        "    theta = np.linalg.pinv(X.T @ X) @ X.T @ y\n",
        "    return theta[0], theta[1:]\n",
        "\n",
        "def predict(X, theta0, theta):\n",
        "    return theta0 + X @ theta"
      ],
      "metadata": {
        "id": "PbHeOGi3B0F0"
      },
      "execution_count": null,
      "outputs": []
    },
    {
      "cell_type": "markdown",
      "source": [
        "# **3. Model Training:**\n",
        "\n",
        "- Split the dataset into training and testing sets.\n",
        "- Train your linear regression model on the training set.\n",
        "- Calculate the Mean Squared Error (MSE) on the training data to assess the model's fit."
      ],
      "metadata": {
        "id": "lmRsw8feNeh3"
      }
    },
    {
      "cell_type": "code",
      "source": [
        "X_train, X_test, y_train, y_test = train_test_split(X, y, test_size=0.2, random_state=42)"
      ],
      "metadata": {
        "id": "XMCC7Oew8MC2"
      },
      "execution_count": null,
      "outputs": []
    },
    {
      "cell_type": "code",
      "source": [
        "theta0, theta = linear_regression(X_train, y_train)"
      ],
      "metadata": {
        "id": "7JnYfOdxNqJn"
      },
      "execution_count": null,
      "outputs": []
    },
    {
      "cell_type": "code",
      "source": [
        "y_train_pred = predict(X_train, theta0, theta)\n",
        "mse_train = np.mean((y_train - y_train_pred) ** 2)\n",
        "print(f'Training MSE: {mse_train:.2f}')"
      ],
      "metadata": {
        "colab": {
          "base_uri": "https://localhost:8080/"
        },
        "id": "kUX5fJk38YH1",
        "outputId": "d08661e7-ef07-4736-f5e9-1792a1ffad77"
      },
      "execution_count": null,
      "outputs": [
        {
          "output_type": "stream",
          "name": "stdout",
          "text": [
            "Training MSE: 170277648.52\n"
          ]
        }
      ]
    },
    {
      "cell_type": "markdown",
      "source": [
        "# **4. Model Evaluation:**\n",
        "- Test your model on the testing set and compute the MSE for the test data.\n",
        "- Plot the regression line along with the test data points to visualize the model's performance."
      ],
      "metadata": {
        "id": "pkhombC-NlYv"
      }
    },
    {
      "cell_type": "code",
      "source": [
        "y_test_pred = predict(X_test, theta0, theta)\n",
        "mse_test = np.mean((y_test - y_test_pred) ** 2)\n",
        "print(f'Testing MSE: {mse_test:.2f}')"
      ],
      "metadata": {
        "id": "dlNEBiquNqyS",
        "colab": {
          "base_uri": "https://localhost:8080/"
        },
        "outputId": "d23b8623-f6ad-4321-aeae-b5c9b30c1523"
      },
      "execution_count": null,
      "outputs": [
        {
          "output_type": "stream",
          "name": "stdout",
          "text": [
            "Testing MSE: 167882080.37\n"
          ]
        }
      ]
    },
    {
      "cell_type": "code",
      "source": [
        "plt.figure(figsize=(8, 6))\n",
        "plt.hist([y_test, y_test_pred], bins=20, color=['lightblue', 'lightcoral'], label=['Actual', 'Predicted'])\n",
        "plt.xlabel('Price')\n",
        "plt.ylabel('Count')\n",
        "plt.title('Linear Regression')\n",
        "plt.legend()\n",
        "plt.show()"
      ],
      "metadata": {
        "colab": {
          "base_uri": "https://localhost:8080/",
          "height": 564
        },
        "id": "ODK8UOE7CGsU",
        "outputId": "2a13a059-eded-4698-8d10-2dc5c8ffdbc3"
      },
      "execution_count": null,
      "outputs": [
        {
          "output_type": "display_data",
          "data": {
            "text/plain": [
              "<Figure size 800x600 with 1 Axes>"
            ],
            "image/png": "[encoded data removed]"
          },
          "metadata": {}
        }
      ]
    },
    {
      "cell_type": "markdown",
      "source": [
        "# **Report: Linear Regression Implementation**\n",
        "\n",
        "# **Introduction**\n",
        "\n",
        "I've stated the stages involved in developing a simple linear regression model to forecast home prices in this paper. Python was used in Google Collab to construct the model, and no pre-built libraries were used. The dataset was prepared, the model was evaluated and trained, and the results were carefully reviewed throughout this process.\n",
        "\n",
        "# **1. Data Preprocessing**\n",
        "\n",
        "## **Loading the Dataset**\n",
        "\n",
        "Our first step in data preprocessing was to check the dataset for any missing values after loading the dataset, which included data about house prices and related features, from a CSV file into a Pandas DataFrame. We started with feature normalization to standardize the range of independent variables after determining which entries were missing and managing them by removing rows that had missing values. This is an important step because it guarantees that every feature influences the model in the same way and decreases biases resulting from different scales.\n",
        "\n",
        "# **2. Model Implementation**\n",
        "\n",
        "## **Linear Regression Model**\n",
        "\n",
        "The linear regression model was implemented from scratch using the least squares method. The slope and intercept parameters were derived using a specific formula normal equation.\n",
        "\n",
        "## **Model Training**\n",
        "\n",
        "To assess the performance of the model, the dataset was split into training and testing sets. The Mean Squared Error (MSE) was calculated to assess how well the model fits the training set of data after the model had been trained using it.\n",
        "\n",
        "# **3. Model Evaluation**\n",
        "\n",
        "## **Testing the Model**\n",
        "\n",
        "The predict function was used to evaluate the model's performance on the testing set. To evaluate the model's capacity to generalize to new data, the Mean Squared Error (MSE) was computed for the test data.\n",
        "\n",
        "## **Visualization**\n",
        "\n",
        "To see the distribution of actual versus expected home values, a histogram was produced. Plotting the data shows that there is generally good agreement between the exact prices and the expected prices. For lower-priced homes, it exhibits a small overestimation, while for higher-priced homes, a minor underestimation.\n",
        "\n",
        "# **Challenges and Limitations**\n",
        "\n",
        "The dataset's missing values presented a handling challenge. Fortunately, there were no missing values in this instance, so special processing was not required. It's crucial to remember that this method relies on a linear relationship between the input features and the target variable; if the relationship is non-linear, this could harm the implementation's performance. Moreover, categorical features and feature interactions are not handled by the model.\n",
        "\n",
        "# **Conclusion**\n",
        "\n",
        "The study details the development of a basic Python linear regression model from scratch to predict home values according to the size, number of bedrooms, and age of the property. A testing set was used to assess the model after it had been trained on a particular set. The results showed an ideal match for the training set and an acceptable level of generalization to unknown data. However, the model's ability to manage complex feature interactions and non-linear correlations is one of its limits. It is suggested that to improve the model's performance, non-linear regression approaches be investigated, categorical features be addressed, and feature engineering be included. Using regularization techniques is also recommended to avoid overfitting and improve the model's capacity for generalization."
      ],
      "metadata": {
        "id": "NuhrsjKZ-hKZ"
      }
    }
  ]
}
